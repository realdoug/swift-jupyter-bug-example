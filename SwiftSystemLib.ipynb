{
 "cells": [
  {
   "cell_type": "code",
   "execution_count": 1,
   "metadata": {},
   "outputs": [
    {
     "name": "stdout",
     "output_type": "stream",
     "text": [
      "Installing packages:\n",
      "\t.package(path: \"/notebooks/Clibgit\")\n",
      "\t\tClibgit\n",
      "With SwiftPM flags: []\n",
      "Working in: /tmp/tmpx9ej59qa/swift-install\n",
      "Completed resolution in 0.63s\n",
      "'Clibgit' /notebooks/Clibgit: warning: Ignoring declared target(s) 'Clibgit' in the system package\n",
      "'Clibgit' /notebooks/Clibgit: warning: system packages are deprecated; use system library targets instead\n",
      "Compile Swift Module 'jupyterInstalledPackages' (1 sources)\n",
      "Linking ./.build/x86_64-unknown-linux/debug/libjupyterInstalledPackages.so\n",
      "Initializing Swift...\n",
      "Installation complete!\n"
     ]
    }
   ],
   "source": [
    "%install '.package(path: \"$cwd/Clibgit\")' Clibgit\n",
    "// %install '.package(url: \"https://github.com/NSHipster/DeckOfPlayingCards\", from: \"4.0.0\")' DeckOfPlayingCards"
   ]
  },
  {
   "cell_type": "code",
   "execution_count": 2,
   "metadata": {},
   "outputs": [
    {
     "ename": "",
     "evalue": "",
     "output_type": "error",
     "traceback": [
      "error: <Cell 2>:1:8: error: no such module 'Clibgit'\nimport Clibgit\n       ^\n\n"
     ]
    }
   ],
   "source": [
    "import Clibgit"
   ]
  },
  {
   "cell_type": "code",
   "execution_count": null,
   "metadata": {},
   "outputs": [],
   "source": []
  },
  {
   "cell_type": "code",
   "execution_count": null,
   "metadata": {},
   "outputs": [],
   "source": []
  },
  {
   "cell_type": "code",
   "execution_count": null,
   "metadata": {},
   "outputs": [],
   "source": []
  }
 ],
 "metadata": {
  "kernelspec": {
   "display_name": "Swift",
   "language": "swift",
   "name": "swift"
  },
  "language_info": {
   "file_extension": ".swift",
   "mimetype": "text/x-swift",
   "name": "swift",
   "version": ""
  }
 },
 "nbformat": 4,
 "nbformat_minor": 2
}
